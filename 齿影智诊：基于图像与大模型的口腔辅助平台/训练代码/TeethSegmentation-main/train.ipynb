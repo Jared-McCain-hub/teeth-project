{
 "cells": [
  {
   "cell_type": "code",
   "execution_count": 2,
   "metadata": {},
   "outputs": [
    {
     "name": "stdout",
     "output_type": "stream",
     "text": [
      "Requirement already satisfied: matplotlib in d:\\anaconda\\envs\\next\\lib\\site-packages (3.7.2)\n",
      "Collecting matplotlib\n",
      "  Downloading matplotlib-3.9.4-cp39-cp39-win_amd64.whl.metadata (11 kB)\n",
      "Requirement already satisfied: contourpy>=1.0.1 in d:\\anaconda\\envs\\next\\lib\\site-packages (from matplotlib) (1.2.1)\n",
      "Requirement already satisfied: cycler>=0.10 in d:\\anaconda\\envs\\next\\lib\\site-packages (from matplotlib) (0.12.1)\n",
      "Requirement already satisfied: fonttools>=4.22.0 in d:\\anaconda\\envs\\next\\lib\\site-packages (from matplotlib) (4.49.0)\n",
      "Requirement already satisfied: kiwisolver>=1.3.1 in d:\\anaconda\\envs\\next\\lib\\site-packages (from matplotlib) (1.4.5)\n",
      "Requirement already satisfied: numpy>=1.23 in d:\\anaconda\\envs\\next\\lib\\site-packages (from matplotlib) (2.0.2)\n",
      "Requirement already satisfied: packaging>=20.0 in d:\\anaconda\\envs\\next\\lib\\site-packages (from matplotlib) (24.0)\n",
      "Requirement already satisfied: pillow>=8 in d:\\anaconda\\envs\\next\\lib\\site-packages (from matplotlib) (10.2.0)\n",
      "Requirement already satisfied: pyparsing>=2.3.1 in d:\\anaconda\\envs\\next\\lib\\site-packages (from matplotlib) (3.0.9)\n",
      "Requirement already satisfied: python-dateutil>=2.7 in d:\\anaconda\\envs\\next\\lib\\site-packages (from matplotlib) (2.9.0.post0)\n",
      "Requirement already satisfied: importlib-resources>=3.2.0 in d:\\anaconda\\envs\\next\\lib\\site-packages (from matplotlib) (6.4.0)\n",
      "Requirement already satisfied: zipp>=3.1.0 in d:\\anaconda\\envs\\next\\lib\\site-packages (from importlib-resources>=3.2.0->matplotlib) (3.18.0)\n",
      "Requirement already satisfied: six>=1.5 in d:\\anaconda\\envs\\next\\lib\\site-packages (from python-dateutil>=2.7->matplotlib) (1.16.0)\n",
      "Downloading matplotlib-3.9.4-cp39-cp39-win_amd64.whl (7.8 MB)\n",
      "   ---------------------------------------- 0.0/7.8 MB ? eta -:--:--\n",
      "   ---------------------------------------- 0.0/7.8 MB ? eta -:--:--\n",
      "   ---------------------------------------- 0.0/7.8 MB 435.7 kB/s eta 0:00:18\n",
      "   ---------------------------------------- 0.0/7.8 MB 388.9 kB/s eta 0:00:21\n",
      "   ---------------------------------------- 0.1/7.8 MB 581.0 kB/s eta 0:00:14\n",
      "    --------------------------------------- 0.1/7.8 MB 587.0 kB/s eta 0:00:14\n",
      "    --------------------------------------- 0.2/7.8 MB 697.2 kB/s eta 0:00:11\n",
      "   - -------------------------------------- 0.2/7.8 MB 860.2 kB/s eta 0:00:09\n",
      "   - -------------------------------------- 0.3/7.8 MB 862.0 kB/s eta 0:00:09\n",
      "   -- ------------------------------------- 0.5/7.8 MB 1.4 MB/s eta 0:00:06\n",
      "   -- ------------------------------------- 0.6/7.8 MB 1.4 MB/s eta 0:00:06\n",
      "   --- ------------------------------------ 0.7/7.8 MB 1.6 MB/s eta 0:00:05\n",
      "   ----- ---------------------------------- 1.1/7.8 MB 2.2 MB/s eta 0:00:04\n",
      "   ----- ---------------------------------- 1.1/7.8 MB 2.2 MB/s eta 0:00:04\n",
      "   -------- ------------------------------- 1.6/7.8 MB 2.8 MB/s eta 0:00:03\n",
      "   --------- ------------------------------ 1.8/7.8 MB 3.2 MB/s eta 0:00:02\n",
      "   ----------- ---------------------------- 2.2/7.8 MB 3.4 MB/s eta 0:00:02\n",
      "   ------------ --------------------------- 2.5/7.8 MB 3.7 MB/s eta 0:00:02\n",
      "   -------------- ------------------------- 2.9/7.8 MB 3.9 MB/s eta 0:00:02\n",
      "   --------------- ------------------------ 3.1/7.8 MB 4.0 MB/s eta 0:00:02\n",
      "   ------------------ --------------------- 3.6/7.8 MB 4.5 MB/s eta 0:00:01\n",
      "   -------------------- ------------------- 4.0/7.8 MB 4.8 MB/s eta 0:00:01\n",
      "   ----------------------- ---------------- 4.5/7.8 MB 5.1 MB/s eta 0:00:01\n",
      "   ------------------------- -------------- 4.9/7.8 MB 5.2 MB/s eta 0:00:01\n",
      "   --------------------------- ------------ 5.4/7.8 MB 5.4 MB/s eta 0:00:01\n",
      "   ------------------------------ --------- 5.9/7.8 MB 5.7 MB/s eta 0:00:01\n",
      "   -------------------------------- ------- 6.4/7.8 MB 6.0 MB/s eta 0:00:01\n",
      "   --------------------------------- ------ 6.6/7.8 MB 6.0 MB/s eta 0:00:01\n",
      "   ----------------------------------- ---- 7.0/7.8 MB 6.0 MB/s eta 0:00:01\n",
      "   -------------------------------------- - 7.5/7.8 MB 6.3 MB/s eta 0:00:01\n",
      "   ---------------------------------------- 7.8/7.8 MB 6.3 MB/s eta 0:00:00\n",
      "Installing collected packages: matplotlib\n",
      "  Attempting uninstall: matplotlib\n",
      "    Found existing installation: matplotlib 3.7.2\n",
      "    Uninstalling matplotlib-3.7.2:\n",
      "      Successfully uninstalled matplotlib-3.7.2\n",
      "Successfully installed matplotlib-3.9.4\n"
     ]
    },
    {
     "name": "stderr",
     "output_type": "stream",
     "text": [
      "  WARNING: Failed to remove contents in a temporary directory 'D:\\anaconda\\envs\\next\\Lib\\site-packages\\~atplotlib.libs'.\n",
      "  You can safely remove it manually.\n",
      "  WARNING: Failed to remove contents in a temporary directory 'D:\\anaconda\\envs\\next\\Lib\\site-packages\\~atplotlib'.\n",
      "  You can safely remove it manually.\n",
      "ERROR: pip's dependency resolver does not currently take into account all the packages that are installed. This behaviour is the source of the following dependency conflicts.\n",
      "d2l 1.0.3 requires matplotlib==3.7.2, but you have matplotlib 3.9.4 which is incompatible.\n",
      "d2l 1.0.3 requires numpy==1.23.5, but you have numpy 2.0.2 which is incompatible.\n",
      "d2l 1.0.3 requires scipy==1.10.1, but you have scipy 1.13.1 which is incompatible.\n"
     ]
    }
   ],
   "source": [
    "!pip install --upgrade matplotlib"
   ]
  },
  {
   "cell_type": "code",
   "execution_count": 4,
   "metadata": {},
   "outputs": [
    {
     "name": "stdout",
     "output_type": "stream",
     "text": [
      "Collecting numpy==1.26.4\n",
      "  Using cached numpy-1.26.4-cp39-cp39-win_amd64.whl.metadata (61 kB)\n",
      "Using cached numpy-1.26.4-cp39-cp39-win_amd64.whl (15.8 MB)\n",
      "Installing collected packages: numpy\n",
      "  Attempting uninstall: numpy\n",
      "    Found existing installation: numpy 2.0.2\n",
      "    Uninstalling numpy-2.0.2:\n",
      "      Successfully uninstalled numpy-2.0.2\n",
      "Successfully installed numpy-1.26.4\n"
     ]
    },
    {
     "name": "stderr",
     "output_type": "stream",
     "text": [
      "  WARNING: Failed to remove contents in a temporary directory 'D:\\anaconda\\envs\\next\\Lib\\site-packages\\~-mpy.libs'.\n",
      "  You can safely remove it manually.\n",
      "  WARNING: Failed to remove contents in a temporary directory 'D:\\anaconda\\envs\\next\\Lib\\site-packages\\~~mpy'.\n",
      "  You can safely remove it manually.\n",
      "ERROR: pip's dependency resolver does not currently take into account all the packages that are installed. This behaviour is the source of the following dependency conflicts.\n",
      "d2l 1.0.3 requires matplotlib==3.7.2, but you have matplotlib 3.9.4 which is incompatible.\n",
      "d2l 1.0.3 requires numpy==1.23.5, but you have numpy 1.26.4 which is incompatible.\n",
      "d2l 1.0.3 requires scipy==1.10.1, but you have scipy 1.13.1 which is incompatible.\n",
      "paddlenlp 2.6.1 requires protobuf==3.20.2, but you have protobuf 4.25.3 which is incompatible.\n",
      "paddlepaddle 2.6.0 requires protobuf<=3.20.2,>=3.1.0; platform_system == \"Windows\", but you have protobuf 4.25.3 which is incompatible.\n"
     ]
    }
   ],
   "source": [
    "! pip install numpy==1.26.4"
   ]
  },
  {
   "cell_type": "code",
   "execution_count": 5,
   "metadata": {},
   "outputs": [
    {
     "name": "stderr",
     "output_type": "stream",
     "text": [
      "\n",
      "A module that was compiled using NumPy 1.x cannot be run in\n",
      "NumPy 2.0.2 as it may crash. To support both 1.x and 2.x\n",
      "versions of NumPy, modules must be compiled with NumPy 2.0.\n",
      "Some module may need to rebuild instead e.g. with 'pybind11>=2.12'.\n",
      "\n",
      "If you are a user of the module, the easiest solution will be to\n",
      "downgrade to 'numpy<2' or try to upgrade the affected module.\n",
      "We expect that some modules will need time to support NumPy 2.\n",
      "\n",
      "Traceback (most recent call last):  File \"d:\\anaconda\\envs\\next\\lib\\runpy.py\", line 197, in _run_module_as_main\n",
      "    return _run_code(code, main_globals, None,\n",
      "  File \"d:\\anaconda\\envs\\next\\lib\\runpy.py\", line 87, in _run_code\n",
      "    exec(code, run_globals)\n",
      "  File \"d:\\anaconda\\envs\\next\\lib\\site-packages\\ipykernel_launcher.py\", line 18, in <module>\n",
      "    app.launch_new_instance()\n",
      "  File \"d:\\anaconda\\envs\\next\\lib\\site-packages\\traitlets\\config\\application.py\", line 1075, in launch_instance\n",
      "    app.start()\n",
      "  File \"d:\\anaconda\\envs\\next\\lib\\site-packages\\ipykernel\\kernelapp.py\", line 739, in start\n",
      "    self.io_loop.start()\n",
      "  File \"d:\\anaconda\\envs\\next\\lib\\site-packages\\tornado\\platform\\asyncio.py\", line 205, in start\n",
      "    self.asyncio_loop.run_forever()\n",
      "  File \"d:\\anaconda\\envs\\next\\lib\\asyncio\\base_events.py\", line 601, in run_forever\n",
      "    self._run_once()\n",
      "  File \"d:\\anaconda\\envs\\next\\lib\\asyncio\\base_events.py\", line 1905, in _run_once\n",
      "    handle._run()\n",
      "  File \"d:\\anaconda\\envs\\next\\lib\\asyncio\\events.py\", line 80, in _run\n",
      "    self._context.run(self._callback, *self._args)\n",
      "  File \"d:\\anaconda\\envs\\next\\lib\\site-packages\\ipykernel\\kernelbase.py\", line 545, in dispatch_queue\n",
      "    await self.process_one()\n",
      "  File \"d:\\anaconda\\envs\\next\\lib\\site-packages\\ipykernel\\kernelbase.py\", line 534, in process_one\n",
      "    await dispatch(*args)\n",
      "  File \"d:\\anaconda\\envs\\next\\lib\\site-packages\\ipykernel\\kernelbase.py\", line 437, in dispatch_shell\n",
      "    await result\n",
      "  File \"d:\\anaconda\\envs\\next\\lib\\site-packages\\ipykernel\\ipkernel.py\", line 359, in execute_request\n",
      "    await super().execute_request(stream, ident, parent)\n",
      "  File \"d:\\anaconda\\envs\\next\\lib\\site-packages\\ipykernel\\kernelbase.py\", line 778, in execute_request\n",
      "    reply_content = await reply_content\n",
      "  File \"d:\\anaconda\\envs\\next\\lib\\site-packages\\ipykernel\\ipkernel.py\", line 446, in do_execute\n",
      "    res = shell.run_cell(\n",
      "  File \"d:\\anaconda\\envs\\next\\lib\\site-packages\\ipykernel\\zmqshell.py\", line 549, in run_cell\n",
      "    return super().run_cell(*args, **kwargs)\n",
      "  File \"d:\\anaconda\\envs\\next\\lib\\site-packages\\IPython\\core\\interactiveshell.py\", line 3048, in run_cell\n",
      "    result = self._run_cell(\n",
      "  File \"d:\\anaconda\\envs\\next\\lib\\site-packages\\IPython\\core\\interactiveshell.py\", line 3103, in _run_cell\n",
      "    result = runner(coro)\n",
      "  File \"d:\\anaconda\\envs\\next\\lib\\site-packages\\IPython\\core\\async_helpers.py\", line 129, in _pseudo_sync_runner\n",
      "    coro.send(None)\n",
      "  File \"d:\\anaconda\\envs\\next\\lib\\site-packages\\IPython\\core\\interactiveshell.py\", line 3308, in run_cell_async\n",
      "    has_raised = await self.run_ast_nodes(code_ast.body, cell_name,\n",
      "  File \"d:\\anaconda\\envs\\next\\lib\\site-packages\\IPython\\core\\interactiveshell.py\", line 3490, in run_ast_nodes\n",
      "    if await self.run_code(code, result, async_=asy):\n",
      "  File \"d:\\anaconda\\envs\\next\\lib\\site-packages\\IPython\\core\\interactiveshell.py\", line 3550, in run_code\n",
      "    exec(code_obj, self.user_global_ns, self.user_ns)\n",
      "  File \"C:\\Users\\25111\\AppData\\Local\\Temp\\ipykernel_31184\\2764616507.py\", line 2, in <module>\n",
      "    from loader import train_loader, val_loader, test_loader\n",
      "  File \"c:\\Users\\25111\\Desktop\\19软工1班_190808108_孔琰_毕设作品\\19软工1班_190808108_孔琰_毕设作品\\训练代码\\TeethSegmentation-main\\loader.py\", line 6, in <module>\n",
      "    import matplotlib.pyplot as plt\n",
      "  File \"d:\\anaconda\\envs\\next\\lib\\site-packages\\matplotlib\\__init__.py\", line 159, in <module>\n",
      "    from . import _api, _version, cbook, _docstring, rcsetup\n",
      "  File \"d:\\anaconda\\envs\\next\\lib\\site-packages\\matplotlib\\rcsetup.py\", line 28, in <module>\n",
      "    from matplotlib.colors import Colormap, is_color_like\n",
      "  File \"d:\\anaconda\\envs\\next\\lib\\site-packages\\matplotlib\\colors.py\", line 57, in <module>\n",
      "    from matplotlib import _api, _cm, cbook, scale\n",
      "  File \"d:\\anaconda\\envs\\next\\lib\\site-packages\\matplotlib\\scale.py\", line 22, in <module>\n",
      "    from matplotlib.ticker import (\n",
      "  File \"d:\\anaconda\\envs\\next\\lib\\site-packages\\matplotlib\\ticker.py\", line 144, in <module>\n",
      "    from matplotlib import transforms as mtransforms\n",
      "  File \"d:\\anaconda\\envs\\next\\lib\\site-packages\\matplotlib\\transforms.py\", line 49, in <module>\n",
      "    from matplotlib._path import (\n"
     ]
    },
    {
     "ename": "AttributeError",
     "evalue": "_ARRAY_API not found",
     "output_type": "error",
     "traceback": [
      "\u001b[1;31m---------------------------------------------------------------------------\u001b[0m",
      "\u001b[1;31mAttributeError\u001b[0m                            Traceback (most recent call last)",
      "\u001b[1;31mAttributeError\u001b[0m: _ARRAY_API not found"
     ]
    },
    {
     "ename": "ImportError",
     "evalue": "numpy.core.multiarray failed to import",
     "output_type": "error",
     "traceback": [
      "\u001b[1;31m---------------------------------------------------------------------------\u001b[0m",
      "\u001b[1;31mImportError\u001b[0m                               Traceback (most recent call last)",
      "Cell \u001b[1;32mIn[5], line 2\u001b[0m\n\u001b[0;32m      1\u001b[0m \u001b[38;5;28;01mfrom\u001b[39;00m \u001b[38;5;21;01mmodel\u001b[39;00m \u001b[38;5;28;01mimport\u001b[39;00m \u001b[38;5;241m*\u001b[39m\n\u001b[1;32m----> 2\u001b[0m \u001b[38;5;28;01mfrom\u001b[39;00m \u001b[38;5;21;01mloader\u001b[39;00m \u001b[38;5;28;01mimport\u001b[39;00m train_loader, val_loader, test_loader\n\u001b[0;32m      3\u001b[0m \u001b[38;5;28;01mimport\u001b[39;00m \u001b[38;5;21;01mmatplotlib\u001b[39;00m\u001b[38;5;21;01m.\u001b[39;00m\u001b[38;5;21;01mpyplot\u001b[39;00m \u001b[38;5;28;01mas\u001b[39;00m \u001b[38;5;21;01mplt\u001b[39;00m\n\u001b[0;32m      4\u001b[0m \u001b[38;5;28;01mimport\u001b[39;00m \u001b[38;5;21;01mnumpy\u001b[39;00m \u001b[38;5;28;01mas\u001b[39;00m \u001b[38;5;21;01mnp\u001b[39;00m\n",
      "File \u001b[1;32mc:\\Users\\25111\\Desktop\\19软工1班_190808108_孔琰_毕设作品\\19软工1班_190808108_孔琰_毕设作品\\训练代码\\TeethSegmentation-main\\loader.py:6\u001b[0m\n\u001b[0;32m      3\u001b[0m \u001b[38;5;28;01mimport\u001b[39;00m \u001b[38;5;21;01mcv2\u001b[39;00m\n\u001b[0;32m      4\u001b[0m \u001b[38;5;28;01mfrom\u001b[39;00m \u001b[38;5;21;01mPIL\u001b[39;00m \u001b[38;5;28;01mimport\u001b[39;00m Image\n\u001b[1;32m----> 6\u001b[0m \u001b[38;5;28;01mimport\u001b[39;00m \u001b[38;5;21;01mmatplotlib\u001b[39;00m\u001b[38;5;21;01m.\u001b[39;00m\u001b[38;5;21;01mpyplot\u001b[39;00m \u001b[38;5;28;01mas\u001b[39;00m \u001b[38;5;21;01mplt\u001b[39;00m\n\u001b[0;32m      8\u001b[0m \u001b[38;5;28;01mfrom\u001b[39;00m \u001b[38;5;21;01msklearn\u001b[39;00m\u001b[38;5;21;01m.\u001b[39;00m\u001b[38;5;21;01mmodel_selection\u001b[39;00m \u001b[38;5;28;01mimport\u001b[39;00m train_test_split\n\u001b[0;32m     10\u001b[0m \u001b[38;5;28;01mfrom\u001b[39;00m \u001b[38;5;21;01mtorch\u001b[39;00m\u001b[38;5;21;01m.\u001b[39;00m\u001b[38;5;21;01mutils\u001b[39;00m\u001b[38;5;21;01m.\u001b[39;00m\u001b[38;5;21;01mdata\u001b[39;00m  \u001b[38;5;28;01mimport\u001b[39;00m Dataset, DataLoader\n",
      "File \u001b[1;32md:\\anaconda\\envs\\next\\lib\\site-packages\\matplotlib\\__init__.py:159\u001b[0m\n\u001b[0;32m    155\u001b[0m \u001b[38;5;28;01mfrom\u001b[39;00m \u001b[38;5;21;01mpackaging\u001b[39;00m\u001b[38;5;21;01m.\u001b[39;00m\u001b[38;5;21;01mversion\u001b[39;00m \u001b[38;5;28;01mimport\u001b[39;00m parse \u001b[38;5;28;01mas\u001b[39;00m parse_version\n\u001b[0;32m    157\u001b[0m \u001b[38;5;66;03m# cbook must import matplotlib only within function\u001b[39;00m\n\u001b[0;32m    158\u001b[0m \u001b[38;5;66;03m# definitions, so it is safe to import from it here.\u001b[39;00m\n\u001b[1;32m--> 159\u001b[0m \u001b[38;5;28;01mfrom\u001b[39;00m \u001b[38;5;21;01m.\u001b[39;00m \u001b[38;5;28;01mimport\u001b[39;00m _api, _version, cbook, _docstring, rcsetup\n\u001b[0;32m    160\u001b[0m \u001b[38;5;28;01mfrom\u001b[39;00m \u001b[38;5;21;01mmatplotlib\u001b[39;00m\u001b[38;5;21;01m.\u001b[39;00m\u001b[38;5;21;01mcbook\u001b[39;00m \u001b[38;5;28;01mimport\u001b[39;00m sanitize_sequence\n\u001b[0;32m    161\u001b[0m \u001b[38;5;28;01mfrom\u001b[39;00m \u001b[38;5;21;01mmatplotlib\u001b[39;00m\u001b[38;5;21;01m.\u001b[39;00m\u001b[38;5;21;01m_api\u001b[39;00m \u001b[38;5;28;01mimport\u001b[39;00m MatplotlibDeprecationWarning\n",
      "File \u001b[1;32md:\\anaconda\\envs\\next\\lib\\site-packages\\matplotlib\\rcsetup.py:28\u001b[0m\n\u001b[0;32m     26\u001b[0m \u001b[38;5;28;01mfrom\u001b[39;00m \u001b[38;5;21;01mmatplotlib\u001b[39;00m\u001b[38;5;21;01m.\u001b[39;00m\u001b[38;5;21;01mbackends\u001b[39;00m \u001b[38;5;28;01mimport\u001b[39;00m BackendFilter, backend_registry\n\u001b[0;32m     27\u001b[0m \u001b[38;5;28;01mfrom\u001b[39;00m \u001b[38;5;21;01mmatplotlib\u001b[39;00m\u001b[38;5;21;01m.\u001b[39;00m\u001b[38;5;21;01mcbook\u001b[39;00m \u001b[38;5;28;01mimport\u001b[39;00m ls_mapper\n\u001b[1;32m---> 28\u001b[0m \u001b[38;5;28;01mfrom\u001b[39;00m \u001b[38;5;21;01mmatplotlib\u001b[39;00m\u001b[38;5;21;01m.\u001b[39;00m\u001b[38;5;21;01mcolors\u001b[39;00m \u001b[38;5;28;01mimport\u001b[39;00m Colormap, is_color_like\n\u001b[0;32m     29\u001b[0m \u001b[38;5;28;01mfrom\u001b[39;00m \u001b[38;5;21;01mmatplotlib\u001b[39;00m\u001b[38;5;21;01m.\u001b[39;00m\u001b[38;5;21;01m_fontconfig_pattern\u001b[39;00m \u001b[38;5;28;01mimport\u001b[39;00m parse_fontconfig_pattern\n\u001b[0;32m     30\u001b[0m \u001b[38;5;28;01mfrom\u001b[39;00m \u001b[38;5;21;01mmatplotlib\u001b[39;00m\u001b[38;5;21;01m.\u001b[39;00m\u001b[38;5;21;01m_enums\u001b[39;00m \u001b[38;5;28;01mimport\u001b[39;00m JoinStyle, CapStyle\n",
      "File \u001b[1;32md:\\anaconda\\envs\\next\\lib\\site-packages\\matplotlib\\colors.py:57\u001b[0m\n\u001b[0;32m     55\u001b[0m \u001b[38;5;28;01mimport\u001b[39;00m \u001b[38;5;21;01mmatplotlib\u001b[39;00m \u001b[38;5;28;01mas\u001b[39;00m \u001b[38;5;21;01mmpl\u001b[39;00m\n\u001b[0;32m     56\u001b[0m \u001b[38;5;28;01mimport\u001b[39;00m \u001b[38;5;21;01mnumpy\u001b[39;00m \u001b[38;5;28;01mas\u001b[39;00m \u001b[38;5;21;01mnp\u001b[39;00m\n\u001b[1;32m---> 57\u001b[0m \u001b[38;5;28;01mfrom\u001b[39;00m \u001b[38;5;21;01mmatplotlib\u001b[39;00m \u001b[38;5;28;01mimport\u001b[39;00m _api, _cm, cbook, scale\n\u001b[0;32m     58\u001b[0m \u001b[38;5;28;01mfrom\u001b[39;00m \u001b[38;5;21;01m.\u001b[39;00m\u001b[38;5;21;01m_color_data\u001b[39;00m \u001b[38;5;28;01mimport\u001b[39;00m BASE_COLORS, TABLEAU_COLORS, CSS4_COLORS, XKCD_COLORS\n\u001b[0;32m     61\u001b[0m \u001b[38;5;28;01mclass\u001b[39;00m \u001b[38;5;21;01m_ColorMapping\u001b[39;00m(\u001b[38;5;28mdict\u001b[39m):\n",
      "File \u001b[1;32md:\\anaconda\\envs\\next\\lib\\site-packages\\matplotlib\\scale.py:22\u001b[0m\n\u001b[0;32m     20\u001b[0m \u001b[38;5;28;01mimport\u001b[39;00m \u001b[38;5;21;01mmatplotlib\u001b[39;00m \u001b[38;5;28;01mas\u001b[39;00m \u001b[38;5;21;01mmpl\u001b[39;00m\n\u001b[0;32m     21\u001b[0m \u001b[38;5;28;01mfrom\u001b[39;00m \u001b[38;5;21;01mmatplotlib\u001b[39;00m \u001b[38;5;28;01mimport\u001b[39;00m _api, _docstring\n\u001b[1;32m---> 22\u001b[0m \u001b[38;5;28;01mfrom\u001b[39;00m \u001b[38;5;21;01mmatplotlib\u001b[39;00m\u001b[38;5;21;01m.\u001b[39;00m\u001b[38;5;21;01mticker\u001b[39;00m \u001b[38;5;28;01mimport\u001b[39;00m (\n\u001b[0;32m     23\u001b[0m     NullFormatter, ScalarFormatter, LogFormatterSciNotation, LogitFormatter,\n\u001b[0;32m     24\u001b[0m     NullLocator, LogLocator, AutoLocator, AutoMinorLocator,\n\u001b[0;32m     25\u001b[0m     SymmetricalLogLocator, AsinhLocator, LogitLocator)\n\u001b[0;32m     26\u001b[0m \u001b[38;5;28;01mfrom\u001b[39;00m \u001b[38;5;21;01mmatplotlib\u001b[39;00m\u001b[38;5;21;01m.\u001b[39;00m\u001b[38;5;21;01mtransforms\u001b[39;00m \u001b[38;5;28;01mimport\u001b[39;00m Transform, IdentityTransform\n\u001b[0;32m     29\u001b[0m \u001b[38;5;28;01mclass\u001b[39;00m \u001b[38;5;21;01mScaleBase\u001b[39;00m:\n",
      "File \u001b[1;32md:\\anaconda\\envs\\next\\lib\\site-packages\\matplotlib\\ticker.py:144\u001b[0m\n\u001b[0;32m    142\u001b[0m \u001b[38;5;28;01mimport\u001b[39;00m \u001b[38;5;21;01mmatplotlib\u001b[39;00m \u001b[38;5;28;01mas\u001b[39;00m \u001b[38;5;21;01mmpl\u001b[39;00m\n\u001b[0;32m    143\u001b[0m \u001b[38;5;28;01mfrom\u001b[39;00m \u001b[38;5;21;01mmatplotlib\u001b[39;00m \u001b[38;5;28;01mimport\u001b[39;00m _api, cbook\n\u001b[1;32m--> 144\u001b[0m \u001b[38;5;28;01mfrom\u001b[39;00m \u001b[38;5;21;01mmatplotlib\u001b[39;00m \u001b[38;5;28;01mimport\u001b[39;00m transforms \u001b[38;5;28;01mas\u001b[39;00m mtransforms\n\u001b[0;32m    146\u001b[0m _log \u001b[38;5;241m=\u001b[39m logging\u001b[38;5;241m.\u001b[39mgetLogger(\u001b[38;5;18m__name__\u001b[39m)\n\u001b[0;32m    148\u001b[0m __all__ \u001b[38;5;241m=\u001b[39m (\u001b[38;5;124m'\u001b[39m\u001b[38;5;124mTickHelper\u001b[39m\u001b[38;5;124m'\u001b[39m, \u001b[38;5;124m'\u001b[39m\u001b[38;5;124mFormatter\u001b[39m\u001b[38;5;124m'\u001b[39m, \u001b[38;5;124m'\u001b[39m\u001b[38;5;124mFixedFormatter\u001b[39m\u001b[38;5;124m'\u001b[39m,\n\u001b[0;32m    149\u001b[0m            \u001b[38;5;124m'\u001b[39m\u001b[38;5;124mNullFormatter\u001b[39m\u001b[38;5;124m'\u001b[39m, \u001b[38;5;124m'\u001b[39m\u001b[38;5;124mFuncFormatter\u001b[39m\u001b[38;5;124m'\u001b[39m, \u001b[38;5;124m'\u001b[39m\u001b[38;5;124mFormatStrFormatter\u001b[39m\u001b[38;5;124m'\u001b[39m,\n\u001b[0;32m    150\u001b[0m            \u001b[38;5;124m'\u001b[39m\u001b[38;5;124mStrMethodFormatter\u001b[39m\u001b[38;5;124m'\u001b[39m, \u001b[38;5;124m'\u001b[39m\u001b[38;5;124mScalarFormatter\u001b[39m\u001b[38;5;124m'\u001b[39m, \u001b[38;5;124m'\u001b[39m\u001b[38;5;124mLogFormatter\u001b[39m\u001b[38;5;124m'\u001b[39m,\n\u001b[1;32m   (...)\u001b[0m\n\u001b[0;32m    156\u001b[0m            \u001b[38;5;124m'\u001b[39m\u001b[38;5;124mMultipleLocator\u001b[39m\u001b[38;5;124m'\u001b[39m, \u001b[38;5;124m'\u001b[39m\u001b[38;5;124mMaxNLocator\u001b[39m\u001b[38;5;124m'\u001b[39m, \u001b[38;5;124m'\u001b[39m\u001b[38;5;124mAutoMinorLocator\u001b[39m\u001b[38;5;124m'\u001b[39m,\n\u001b[0;32m    157\u001b[0m            \u001b[38;5;124m'\u001b[39m\u001b[38;5;124mSymmetricalLogLocator\u001b[39m\u001b[38;5;124m'\u001b[39m, \u001b[38;5;124m'\u001b[39m\u001b[38;5;124mAsinhLocator\u001b[39m\u001b[38;5;124m'\u001b[39m, \u001b[38;5;124m'\u001b[39m\u001b[38;5;124mLogitLocator\u001b[39m\u001b[38;5;124m'\u001b[39m)\n",
      "File \u001b[1;32md:\\anaconda\\envs\\next\\lib\\site-packages\\matplotlib\\transforms.py:49\u001b[0m\n\u001b[0;32m     46\u001b[0m \u001b[38;5;28;01mfrom\u001b[39;00m \u001b[38;5;21;01mnumpy\u001b[39;00m\u001b[38;5;21;01m.\u001b[39;00m\u001b[38;5;21;01mlinalg\u001b[39;00m \u001b[38;5;28;01mimport\u001b[39;00m inv\n\u001b[0;32m     48\u001b[0m \u001b[38;5;28;01mfrom\u001b[39;00m \u001b[38;5;21;01mmatplotlib\u001b[39;00m \u001b[38;5;28;01mimport\u001b[39;00m _api\n\u001b[1;32m---> 49\u001b[0m \u001b[38;5;28;01mfrom\u001b[39;00m \u001b[38;5;21;01mmatplotlib\u001b[39;00m\u001b[38;5;21;01m.\u001b[39;00m\u001b[38;5;21;01m_path\u001b[39;00m \u001b[38;5;28;01mimport\u001b[39;00m (\n\u001b[0;32m     50\u001b[0m     affine_transform, count_bboxes_overlapping_bbox, update_path_extents)\n\u001b[0;32m     51\u001b[0m \u001b[38;5;28;01mfrom\u001b[39;00m \u001b[38;5;21;01m.\u001b[39;00m\u001b[38;5;21;01mpath\u001b[39;00m \u001b[38;5;28;01mimport\u001b[39;00m Path\n\u001b[0;32m     53\u001b[0m DEBUG \u001b[38;5;241m=\u001b[39m \u001b[38;5;28;01mFalse\u001b[39;00m\n",
      "\u001b[1;31mImportError\u001b[0m: numpy.core.multiarray failed to import"
     ]
    }
   ],
   "source": [
    "from model import *\n",
    "from loader import train_loader, val_loader, test_loader\n",
    "import matplotlib.pyplot as plt\n",
    "import numpy as np\n",
    "from tqdm.notebook import tqdm"
   ]
  },
  {
   "cell_type": "code",
   "execution_count": null,
   "metadata": {},
   "outputs": [],
   "source": [
    "model = UNet()\n",
    "if torch.cuda.is_available():\n",
    "    model = model.to('cuda')"
   ]
  },
  {
   "cell_type": "code",
   "execution_count": null,
   "metadata": {},
   "outputs": [],
   "source": [
    "# Using Adam as our optimizer \n",
    "optimizer = torch.optim.Adam(model.parameters(), lr = 0.00002) # weight_decay="
   ]
  },
  {
   "cell_type": "code",
   "execution_count": null,
   "metadata": {},
   "outputs": [],
   "source": [
    "# Showing that the image names match up :)\n",
    "# for i, sample in enumerate(train_loader):\n",
    "#     Xs, Ys = sample[\"image\"], sample[\"annotation\"]\n",
    "#     print(\"sz\", len(Xs), len(Ys))\n",
    "#     print(i, \"batch 0 X, Y\", Xs[0], Ys[0])\n",
    "#     print(i, \"batch 1 X, Y\", Xs[1], Ys[1])\n",
    "#     break"
   ]
  },
  {
   "cell_type": "code",
   "execution_count": null,
   "metadata": {},
   "outputs": [],
   "source": [
    "# criterion = nn.BCELoss()\n",
    "criterion = nn.BCEWithLogitsLoss()\n",
    "train_hist, val_hist = None, None"
   ]
  },
  {
   "cell_type": "code",
   "execution_count": null,
   "metadata": {},
   "outputs": [],
   "source": [
    "# Initialize weights randomly (prevents getting caught at starting loss and not moving)\n",
    "def init_weights(m):\n",
    "    if isinstance(m, nn.Conv2d):\n",
    "        torch.nn.init.xavier_uniform_(m.weight)\n",
    "\n",
    "model.apply(init_weights)\n",
    "print(\"Weights initialized\")"
   ]
  },
  {
   "cell_type": "code",
   "execution_count": null,
   "metadata": {},
   "outputs": [],
   "source": [
    "def train(model, criterion, epochs = 5, verbose=False, train_hist=None, val_hist=None):\n",
    "  if not train_hist:\n",
    "    train_hist = []\n",
    "  if not val_hist:\n",
    "    val_hist = []\n",
    "    \n",
    "  torch.cuda.empty_cache()\n",
    "    \n",
    "  tqdm.write(\"====== Training Started ======\")\n",
    "  epochs_completed = 0\n",
    "  try:\n",
    "    for e in tqdm(range(epochs), position=0, desc=\"Epochs\", leave=False, colour='green'):\n",
    "      train_running_loss = 0.0\n",
    "      validation_running_loss = 0.0\n",
    "      ct = 0.0\n",
    "      \n",
    "      model.train()\n",
    "      \n",
    "      # print(\"Losses are reset to:\", train_running_loss, validation_running_loss, ct)\n",
    "      for ith_batch, sample in tqdm(enumerate(train_loader), position=1, desc=\"Batches\", leave=False, total=len(train_loader), colour='blue'):\n",
    "        X, Y = sample['image'], sample['annotation']\n",
    "      #   plt.imshow(pred.detach().numpy()[0].transpose(1, 2, 0))\n",
    "\n",
    "        if torch.cuda.is_available():\n",
    "          X = X.to('cuda')\n",
    "          Y = Y.to('cuda')\n",
    "\n",
    "        y_pred = model(X)\n",
    "      # out = (y_pred + 0.5).int().float()\n",
    "        \n",
    "        loss = criterion(y_pred, Y) #* 0.70 + 0.30 * dice_loss(y_pred, y_train)\n",
    "        optimizer.zero_grad()\n",
    "        loss.backward()\n",
    "        optimizer.step()\n",
    "        \n",
    "        if verbose and ith_batch % 10 == 0 and ith_batch != 0:\n",
    "          # print(\"This item's loss:\", f'{loss.item()}')\n",
    "          # print(\"This pred started with\", y_pred[0][0][0][0:10])\n",
    "          tqdm.write('Epoch: ', e + 1, 'Batch: ', ith_batch, 'Curr Epoch Loss: ', f'{train_running_loss / ct:0.3f}')\n",
    "          \n",
    "        train_running_loss += loss.item()\n",
    "        train_hist.append(loss.item())\n",
    "        ct += 1.0\n",
    "        \n",
    "      with torch.no_grad():\n",
    "        \n",
    "        model.eval()\n",
    "        \n",
    "        for ith_batch, sample in enumerate(val_loader):\n",
    "            X_val, y_val = sample['image'], sample['annotation']\n",
    "            \n",
    "            if torch.cuda.is_available():\n",
    "              X_val = X_val.to('cuda')\n",
    "              y_val = y_val.to('cuda')\n",
    "            \n",
    "            y_out = model(X_val)\n",
    "            \n",
    "            # print(\"Pred is\", y_out[y_out.shape[0]//2,y_out.shape[1]//2-1:y_out.shape[1]//2+1])\n",
    "            val_loss = criterion(y_out, y_val)\n",
    "\n",
    "            validation_running_loss += val_loss.item()\n",
    "            val_hist.append(val_loss.item())\n",
    "\n",
    "      train_epoch_loss = train_running_loss / len(train_loader)\n",
    "      validation_epoch_loss = validation_running_loss / len(val_loader)\n",
    "        \n",
    "      if verbose:\n",
    "        tqdm.write(\"================================================================================\")\n",
    "        tqdm.write(\"Epoch {} completed\".format(e + 1))\n",
    "        tqdm.write(\"Average train loss is {:0.3f}: \".format(train_epoch_loss))\n",
    "        tqdm.write(\"Average validation loss is {:0.3f}\".format(validation_epoch_loss))\n",
    "        tqdm.write(\"================================================================================\")\n",
    "      else:\n",
    "        tqdm.write(f\"Epoch {e + 1}. Train Loss: {train_epoch_loss:0.4f} Val Loss: {validation_epoch_loss:0.4f}\")\n",
    "      epochs_completed = e + 1\n",
    "      torch.cuda.empty_cache()\n",
    "  except Exception as e:\n",
    "    print(\"Exception:\", e)\n",
    "    print(\"Halting training and returning historical loss data\")\n",
    "  return train_hist, val_hist, epochs_completed"
   ]
  },
  {
   "cell_type": "code",
   "execution_count": null,
   "metadata": {},
   "outputs": [],
   "source": [
    "total_epochs=0"
   ]
  },
  {
   "cell_type": "code",
   "execution_count": null,
   "metadata": {},
   "outputs": [],
   "source": [
    "num_epochs = 50\n",
    "# Including train_hist, val_hist in our parameters allows us to retain our previously saved loss data \n",
    "# and visualize the full training graph\n",
    "train_hist, val_hist, completed_epochs = train(model, criterion, epochs=num_epochs, verbose=False, train_hist=train_hist, val_hist=val_hist)\n",
    "total_epochs+=completed_epochs"
   ]
  },
  {
   "cell_type": "code",
   "execution_count": null,
   "metadata": {},
   "outputs": [],
   "source": [
    "def test(model, criterion):\n",
    "    with torch.no_grad():\n",
    "        \n",
    "        model.eval()\n",
    "        run_loss = 0\n",
    "        for ith_batch, sample in enumerate(test_loader):\n",
    "            X_val, y_val = sample['image'], sample['annotation']\n",
    "            \n",
    "            if torch.cuda.is_available():\n",
    "                X_val = X_val.to('cuda')\n",
    "                y_val = y_val.to('cuda')\n",
    "            \n",
    "            y_out = model(X_val)\n",
    "            \n",
    "            val_loss = criterion(y_out, y_val)\n",
    "            run_loss += val_loss.item()\n",
    "\n",
    "        validation_loss = run_loss / len(test_loader)\n",
    "    return validation_loss"
   ]
  },
  {
   "cell_type": "code",
   "execution_count": null,
   "metadata": {},
   "outputs": [],
   "source": [
    "test(model, criterion)"
   ]
  },
  {
   "cell_type": "code",
   "execution_count": null,
   "metadata": {},
   "outputs": [],
   "source": [
    "for i, sample in enumerate(train_loader):\n",
    "    Xs, Ys = sample[\"image\"], sample[\"annotation\"]\n",
    "    print(np.transpose(Xs[0], (2,1,0)).shape)\n",
    "    plt.imshow(np.transpose(Xs[0], (2,1,0)), cmap='gray')\n",
    "    plt.figure()\n",
    "    Xs = Xs.to(\"cuda\")\n",
    "    plt.imshow(np.transpose(model(Xs)[0].cpu().detach().numpy(),(2,1,0)), cmap='gray')\n",
    "    plt.figure()\n",
    "    plt.imshow(np.transpose(Ys[0], (2,1,0)), cmap='gray')\n",
    "    break"
   ]
  },
  {
   "cell_type": "code",
   "execution_count": null,
   "metadata": {},
   "outputs": [],
   "source": [
    "torch.save(model.state_dict(), \"models/best_UNet_06088_512_512.pth\")"
   ]
  },
  {
   "cell_type": "code",
   "execution_count": null,
   "metadata": {},
   "outputs": [],
   "source": [
    "'''\n",
    "Result: 06740_1600_1200\n",
    "150 epochs @ 0.000001 LR\n",
    "50 epochs @ 0.000005 LR\n",
    "\n",
    "Result: 05725_516_516\n",
    "150 epochs @ 0.00005 LR\n",
    "\n",
    "Result: 05700_516_516\n",
    "150 epochs @ 0.0001 LR\n",
    "\n",
    "+\n",
    "\n",
    "50 epochs @ 0.00002 LR\n",
    "Val: 06088_516_516\n",
    "'''\n",
    "\n",
    "'''\n",
    "Weights initialized\n",
    "Output exceeds the size limit. Open the full output data in a text editor\n",
    "====== Training Started ======\n",
    "Epoch 1. Train Loss: 0.689 Val Loss: 0.693\n",
    "Epoch 2. Train Loss: 0.672 Val Loss: 0.668\n",
    "Epoch 3. Train Loss: 0.663 Val Loss: 0.658\n",
    "Epoch 4. Train Loss: 0.659 Val Loss: 0.671\n",
    "Epoch 5. Train Loss: 0.656 Val Loss: 0.657\n",
    "Epoch 6. Train Loss: 0.651 Val Loss: 0.657\n",
    "Epoch 7. Train Loss: 0.649 Val Loss: 0.654\n",
    "Epoch 8. Train Loss: 0.648 Val Loss: 0.650\n",
    "Epoch 9. Train Loss: 0.648 Val Loss: 0.652\n",
    "Epoch 10. Train Loss: 0.646 Val Loss: 0.650\n",
    "Epoch 11. Train Loss: 0.642 Val Loss: 0.665\n",
    "Epoch 12. Train Loss: 0.641 Val Loss: 0.649\n",
    "Epoch 13. Train Loss: 0.641 Val Loss: 0.640\n",
    "Epoch 14. Train Loss: 0.638 Val Loss: 0.641\n",
    "Epoch 15. Train Loss: 0.637 Val Loss: 0.638\n",
    "Epoch 16. Train Loss: 0.630 Val Loss: 0.636\n",
    "Epoch 17. Train Loss: 0.627 Val Loss: 0.630\n",
    "Epoch 18. Train Loss: 0.624 Val Loss: 0.631\n",
    "Epoch 19. Train Loss: 0.625 Val Loss: 0.626\n",
    "Epoch 20. Train Loss: 0.620 Val Loss: 0.620\n",
    "Epoch 21. Train Loss: 0.618 Val Loss: 0.621\n",
    "Epoch 22. Train Loss: 0.632 Val Loss: 0.634\n",
    "Epoch 23. Train Loss: 0.620 Val Loss: 0.627\n",
    "Epoch 24. Train Loss: 0.616 Val Loss: 0.618\n",
    "...\n",
    "Epoch 47. Train Loss: 0.593 Val Loss: 0.606\n",
    "Epoch 48. Train Loss: 0.591 Val Loss: 0.603\n",
    "Epoch 49. Train Loss: 0.592 Val Loss: 0.602\n",
    "Epoch 50. Train Loss: 0.591 Val Loss: 0.603\n",
    "'''"
   ]
  },
  {
   "cell_type": "code",
   "execution_count": null,
   "metadata": {},
   "outputs": [],
   "source": [
    "def plot_loss(title=\"Without Data Augmentation\", ylabel=\"BCE Loss\", xlabel=\"Epochs\"):\n",
    "    train_means, val_means = [], []\n",
    "    for i in range(total_epochs):\n",
    "        train_means.append(np.mean(train_hist[len(train_loader)*i:len(train_loader)*(i+1)]))\n",
    "        val_means.append(np.mean(val_hist[len(val_loader)*i:len(val_loader)*(i+1)]))\n",
    "    plt.plot(train_means, label = 'Train Loss')\n",
    "    plt.plot(val_means, label = 'Validation Loss')\n",
    "    plt.title(title)\n",
    "    plt.ylabel(ylabel)\n",
    "    plt.xlabel(xlabel)\n",
    "    plt.legend()"
   ]
  },
  {
   "cell_type": "code",
   "execution_count": null,
   "metadata": {},
   "outputs": [],
   "source": [
    "plot_loss()"
   ]
  },
  {
   "cell_type": "code",
   "execution_count": null,
   "metadata": {},
   "outputs": [],
   "source": [
    "# plot_loss()"
   ]
  },
  {
   "cell_type": "code",
   "execution_count": null,
   "metadata": {},
   "outputs": [],
   "source": [
    "# plot_loss()"
   ]
  },
  {
   "cell_type": "code",
   "execution_count": null,
   "metadata": {},
   "outputs": [],
   "source": []
  }
 ],
 "metadata": {
  "kernelspec": {
   "display_name": "next",
   "language": "python",
   "name": "next"
  },
  "language_info": {
   "codemirror_mode": {
    "name": "ipython",
    "version": 3
   },
   "file_extension": ".py",
   "mimetype": "text/x-python",
   "name": "python",
   "nbconvert_exporter": "python",
   "pygments_lexer": "ipython3",
   "version": "3.9.18"
  }
 },
 "nbformat": 4,
 "nbformat_minor": 2
}
